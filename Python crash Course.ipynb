{
 "cells": [
  {
   "cell_type": "code",
   "execution_count": 1,
   "id": "8e4f1451",
   "metadata": {},
   "outputs": [
    {
     "data": {
      "text/plain": [
       "'My name is Shruti. My age is 21'"
      ]
     },
     "execution_count": 1,
     "metadata": {},
     "output_type": "execute_result"
    }
   ],
   "source": [
    "#use of format method to get variable value\n",
    "'My name is {}. My age is {}'.format('Shruti',21)"
   ]
  },
  {
   "cell_type": "code",
   "execution_count": 2,
   "id": "5e6842b2",
   "metadata": {},
   "outputs": [
    {
     "data": {
      "text/plain": [
       "'My name is Shruti. My age is 21'"
      ]
     },
     "execution_count": 2,
     "metadata": {},
     "output_type": "execute_result"
    }
   ],
   "source": [
    "'My name is {name}. My age is {age}'.format(name='Shruti',age=21)"
   ]
  },
  {
   "cell_type": "code",
   "execution_count": 4,
   "id": "3be35ce4",
   "metadata": {},
   "outputs": [
    {
     "data": {
      "text/plain": [
       "'Shru'"
      ]
     },
     "execution_count": 4,
     "metadata": {},
     "output_type": "execute_result"
    }
   ],
   "source": [
    "##Slicing of strings\n",
    "#string[start:stop:]\n",
    "s = 'Shrutivats'\n",
    "s[3:4]\n",
    "s[0:]\n",
    "s[:4]"
   ]
  },
  {
   "cell_type": "code",
   "execution_count": null,
   "id": "b14f7650",
   "metadata": {},
   "outputs": [],
   "source": []
  }
 ],
 "metadata": {
  "kernelspec": {
   "display_name": "Python 3 (ipykernel)",
   "language": "python",
   "name": "python3"
  },
  "language_info": {
   "codemirror_mode": {
    "name": "ipython",
    "version": 3
   },
   "file_extension": ".py",
   "mimetype": "text/x-python",
   "name": "python",
   "nbconvert_exporter": "python",
   "pygments_lexer": "ipython3",
   "version": "3.10.9"
  }
 },
 "nbformat": 4,
 "nbformat_minor": 5
}
