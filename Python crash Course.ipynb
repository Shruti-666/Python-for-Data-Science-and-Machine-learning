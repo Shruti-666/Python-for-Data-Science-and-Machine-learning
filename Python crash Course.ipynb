{
 "cells": [
  {
   "cell_type": "code",
   "execution_count": 1,
   "id": "7ddcc75e",
   "metadata": {},
   "outputs": [
    {
     "data": {
      "text/plain": [
       "'My name is Shruti. My age is 21'"
      ]
     },
     "execution_count": 1,
     "metadata": {},
     "output_type": "execute_result"
    }
   ],
   "source": [
    "#use of format method to get variable value\n",
    "'My name is {}. My age is {}'.format('Shruti',21)"
   ]
  },
  {
   "cell_type": "code",
   "execution_count": 2,
   "id": "c0593783",
   "metadata": {},
   "outputs": [
    {
     "data": {
      "text/plain": [
       "'My name is Shruti. My age is 21'"
      ]
     },
     "execution_count": 2,
     "metadata": {},
     "output_type": "execute_result"
    }
   ],
   "source": [
    "'My name is {name}. My age is {age}'.format(name='Shruti',age=21)"
   ]
  },
  {
   "cell_type": "code",
   "execution_count": 5,
   "id": "f9dd4516",
   "metadata": {},
   "outputs": [
    {
     "name": "stdout",
     "output_type": "stream",
     "text": [
      "u\n",
      "Shrutivats\n",
      "Shru\n"
     ]
    }
   ],
   "source": [
    "##Slicing of strings\n",
    "#string[start:stop:]\n",
    "s = 'Shrutivats'\n",
    "print(s[3:4])\n",
    "print(s[0:])\n",
    "print(s[:4])"
   ]
  },
  {
   "cell_type": "code",
   "execution_count": 9,
   "id": "da7eed08",
   "metadata": {},
   "outputs": [
    {
     "name": "stdout",
     "output_type": "stream",
     "text": [
      "initial list ['a', 'b', 'c', 'd'] \n",
      "appended List ['a', 'b', 'c', 'd', 'e']\n"
     ]
    }
   ],
   "source": [
    "## List\n",
    "my_list=['a','b','c','d']\n",
    "print('initial list {} '.format(my_list))\n",
    "my_list.append('e') # append at the end\n",
    "print('appended List {}'.format(my_list))"
   ]
  },
  {
   "cell_type": "code",
   "execution_count": 10,
   "id": "f69eae7a",
   "metadata": {},
   "outputs": [
    {
     "data": {
      "text/plain": [
       "['b', 'c', 'd', 'e']"
      ]
     },
     "execution_count": 10,
     "metadata": {},
     "output_type": "execute_result"
    }
   ],
   "source": [
    "##slicing in list is same as string\n",
    "my_list[1:5]"
   ]
  },
  {
   "cell_type": "code",
   "execution_count": 13,
   "id": "8273235a",
   "metadata": {},
   "outputs": [
    {
     "name": "stdout",
     "output_type": "stream",
     "text": [
      "[3, 4]\n",
      "4\n"
     ]
    }
   ],
   "source": [
    "##nested list\n",
    "nest=[1,2,[3,4],5]\n",
    "print(nest[2])\n",
    "print(nest[2][1])"
   ]
  },
  {
   "cell_type": "code",
   "execution_count": 14,
   "id": "76a09979",
   "metadata": {},
   "outputs": [
    {
     "name": "stdout",
     "output_type": "stream",
     "text": [
      "['Shruti', 'Vats']\n",
      "Shruti\n"
     ]
    }
   ],
   "source": [
    "nest=[1,2,[3,4],5,['Shruti','Vats']]\n",
    "print(nest[4])\n",
    "print(nest[4][0])"
   ]
  },
  {
   "cell_type": "code",
   "execution_count": 6,
   "id": "42d9dd1b",
   "metadata": {},
   "outputs": [],
   "source": [
    "##dictionaries\n",
    "#d ={key:value}\n",
    "dic = {'key1':1,'key2':2}"
   ]
  },
  {
   "cell_type": "code",
   "execution_count": 7,
   "id": "3821660f",
   "metadata": {},
   "outputs": [
    {
     "data": {
      "text/plain": [
       "2"
      ]
     },
     "execution_count": 7,
     "metadata": {},
     "output_type": "execute_result"
    }
   ],
   "source": [
    "#access of dictionaries\n",
    "#dictionaries are key value pair mappings\n",
    "dic['key2']"
   ]
  },
  {
   "cell_type": "code",
   "execution_count": 8,
   "id": "a4cbff24",
   "metadata": {},
   "outputs": [
    {
     "data": {
      "text/plain": [
       "{'key1': 1, 'key2': 2}"
      ]
     },
     "execution_count": 8,
     "metadata": {},
     "output_type": "execute_result"
    }
   ],
   "source": [
    "dic"
   ]
  },
  {
   "cell_type": "code",
   "execution_count": 9,
   "id": "f595bc31",
   "metadata": {},
   "outputs": [
    {
     "data": {
      "text/plain": [
       "[1, 2, 3]"
      ]
     },
     "execution_count": 9,
     "metadata": {},
     "output_type": "execute_result"
    }
   ],
   "source": [
    "d={'k1':[1,2,3]}\n",
    "d['k1']"
   ]
  },
  {
   "cell_type": "code",
   "execution_count": 10,
   "id": "17390945",
   "metadata": {},
   "outputs": [
    {
     "data": {
      "text/plain": [
       "1"
      ]
     },
     "execution_count": 10,
     "metadata": {},
     "output_type": "execute_result"
    }
   ],
   "source": [
    "d['k1'][0]"
   ]
  },
  {
   "cell_type": "code",
   "execution_count": 11,
   "id": "d98d7cd9",
   "metadata": {},
   "outputs": [],
   "source": [
    "d={'k1':{'k11':[1,2,3]}}\n"
   ]
  },
  {
   "cell_type": "code",
   "execution_count": 12,
   "id": "539bdc0f",
   "metadata": {},
   "outputs": [
    {
     "data": {
      "text/plain": [
       "{'k11': [1, 2, 3]}"
      ]
     },
     "execution_count": 12,
     "metadata": {},
     "output_type": "execute_result"
    }
   ],
   "source": [
    "d['k1']"
   ]
  },
  {
   "cell_type": "code",
   "execution_count": 13,
   "id": "9dbd577b",
   "metadata": {},
   "outputs": [
    {
     "data": {
      "text/plain": [
       "2"
      ]
     },
     "execution_count": 13,
     "metadata": {},
     "output_type": "execute_result"
    }
   ],
   "source": [
    "d['k1']['k11'][1]"
   ]
  },
  {
   "cell_type": "code",
   "execution_count": 14,
   "id": "47a12a86",
   "metadata": {},
   "outputs": [],
   "source": [
    "##tuple\n",
    "#immutable\n",
    "t=(1,2,3)"
   ]
  },
  {
   "cell_type": "code",
   "execution_count": 15,
   "id": "c842ee64",
   "metadata": {},
   "outputs": [
    {
     "data": {
      "text/plain": [
       "1"
      ]
     },
     "execution_count": 15,
     "metadata": {},
     "output_type": "execute_result"
    }
   ],
   "source": [
    "t[0]"
   ]
  },
  {
   "cell_type": "code",
   "execution_count": 16,
   "id": "5c64e2c0",
   "metadata": {},
   "outputs": [
    {
     "ename": "TypeError",
     "evalue": "'tuple' object does not support item assignment",
     "output_type": "error",
     "traceback": [
      "\u001b[1;31m---------------------------------------------------------------------------\u001b[0m",
      "\u001b[1;31mTypeError\u001b[0m                                 Traceback (most recent call last)",
      "Cell \u001b[1;32mIn[16], line 1\u001b[0m\n\u001b[1;32m----> 1\u001b[0m t[\u001b[38;5;241m0\u001b[39m]\u001b[38;5;241m=\u001b[39m\u001b[38;5;124m'\u001b[39m\u001b[38;5;124mnew\u001b[39m\u001b[38;5;124m'\u001b[39m\n",
      "\u001b[1;31mTypeError\u001b[0m: 'tuple' object does not support item assignment"
     ]
    }
   ],
   "source": [
    "t[0]='new'"
   ]
  },
  {
   "cell_type": "code",
   "execution_count": 17,
   "id": "5f226117",
   "metadata": {},
   "outputs": [
    {
     "data": {
      "text/plain": [
       "{1, 2, 4, 5, 6, 8, 9}"
      ]
     },
     "execution_count": 17,
     "metadata": {},
     "output_type": "execute_result"
    }
   ],
   "source": [
    "#set\n",
    "set([1,2,2,4,4,4,4,5,5,5,5,6,1,8,8,9])"
   ]
  },
  {
   "cell_type": "code",
   "execution_count": 18,
   "id": "a913907e",
   "metadata": {},
   "outputs": [],
   "source": [
    "s1={1,2,3,4}"
   ]
  },
  {
   "cell_type": "code",
   "execution_count": 21,
   "id": "4a0d9dee",
   "metadata": {},
   "outputs": [],
   "source": [
    "s1.add(5)"
   ]
  },
  {
   "cell_type": "code",
   "execution_count": 22,
   "id": "9c82ca86",
   "metadata": {},
   "outputs": [
    {
     "data": {
      "text/plain": [
       "{1, 2, 3, 4, 5}"
      ]
     },
     "execution_count": 22,
     "metadata": {},
     "output_type": "execute_result"
    }
   ],
   "source": [
    "s1"
   ]
  },
  {
   "cell_type": "code",
   "execution_count": 24,
   "id": "6bd7bfc7",
   "metadata": {},
   "outputs": [
    {
     "data": {
      "text/plain": [
       "{1, 2, 3, 4, 5}"
      ]
     },
     "execution_count": 24,
     "metadata": {},
     "output_type": "execute_result"
    }
   ],
   "source": [
    "s1.add(5)\n",
    "s1"
   ]
  },
  {
   "cell_type": "code",
   "execution_count": 26,
   "id": "7a792b17",
   "metadata": {},
   "outputs": [
    {
     "name": "stdout",
     "output_type": "stream",
     "text": [
      "second\n"
     ]
    }
   ],
   "source": [
    "##if-else\n",
    "if 1==2:\n",
    "    print('first')\n",
    "elif 3==3:\n",
    "    print('second')\n",
    "else:\n",
    "    print('last')"
   ]
  },
  {
   "cell_type": "code",
   "execution_count": 27,
   "id": "db08c741",
   "metadata": {},
   "outputs": [],
   "source": [
    "##for loop\n",
    "seq=[1,2,3,4,5]"
   ]
  },
  {
   "cell_type": "code",
   "execution_count": 28,
   "id": "26cdc6c3",
   "metadata": {},
   "outputs": [
    {
     "name": "stdout",
     "output_type": "stream",
     "text": [
      "1\n",
      "2\n",
      "3\n",
      "4\n",
      "5\n"
     ]
    }
   ],
   "source": [
    "for item in seq:\n",
    "    print(item)"
   ]
  },
  {
   "cell_type": "code",
   "execution_count": null,
   "id": "191a9fb6",
   "metadata": {},
   "outputs": [],
   "source": []
  }
 ],
 "metadata": {
  "kernelspec": {
   "display_name": "Python 3 (ipykernel)",
   "language": "python",
   "name": "python3"
  },
  "language_info": {
   "codemirror_mode": {
    "name": "ipython",
    "version": 3
   },
   "file_extension": ".py",
   "mimetype": "text/x-python",
   "name": "python",
   "nbconvert_exporter": "python",
   "pygments_lexer": "ipython3",
   "version": "3.10.9"
  }
 },
 "nbformat": 4,
 "nbformat_minor": 5
}
