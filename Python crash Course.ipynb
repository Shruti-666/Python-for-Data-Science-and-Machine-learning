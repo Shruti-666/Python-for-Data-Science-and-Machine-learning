{
 "cells": [
  {
   "cell_type": "code",
   "execution_count": 1,
   "id": "f319f83d",
   "metadata": {},
   "outputs": [
    {
     "data": {
      "text/plain": [
       "'My name is Shruti. My age is 21'"
      ]
     },
     "execution_count": 1,
     "metadata": {},
     "output_type": "execute_result"
    }
   ],
   "source": [
    "#use of format method to get variable value\n",
    "'My name is {}. My age is {}'.format('Shruti',21)"
   ]
  },
  {
   "cell_type": "code",
   "execution_count": 2,
   "id": "f7009049",
   "metadata": {},
   "outputs": [
    {
     "data": {
      "text/plain": [
       "'My name is Shruti. My age is 21'"
      ]
     },
     "execution_count": 2,
     "metadata": {},
     "output_type": "execute_result"
    }
   ],
   "source": [
    "'My name is {name}. My age is {age}'.format(name='Shruti',age=21)"
   ]
  },
  {
   "cell_type": "code",
   "execution_count": 5,
   "id": "1cf3bf4a",
   "metadata": {},
   "outputs": [
    {
     "name": "stdout",
     "output_type": "stream",
     "text": [
      "u\n",
      "Shrutivats\n",
      "Shru\n"
     ]
    }
   ],
   "source": [
    "##Slicing of strings\n",
    "#string[start:stop:]\n",
    "s = 'Shrutivats'\n",
    "print(s[3:4])\n",
    "print(s[0:])\n",
    "print(s[:4])"
   ]
  },
  {
   "cell_type": "code",
   "execution_count": 9,
   "id": "0cf02f6d",
   "metadata": {},
   "outputs": [
    {
     "name": "stdout",
     "output_type": "stream",
     "text": [
      "initial list ['a', 'b', 'c', 'd'] \n",
      "appended List ['a', 'b', 'c', 'd', 'e']\n"
     ]
    }
   ],
   "source": [
    "## List\n",
    "my_list=['a','b','c','d']\n",
    "print('initial list {} '.format(my_list))\n",
    "my_list.append('e') # append at the end\n",
    "print('appended List {}'.format(my_list))"
   ]
  },
  {
   "cell_type": "code",
   "execution_count": 10,
   "id": "ba603171",
   "metadata": {},
   "outputs": [
    {
     "data": {
      "text/plain": [
       "['b', 'c', 'd', 'e']"
      ]
     },
     "execution_count": 10,
     "metadata": {},
     "output_type": "execute_result"
    }
   ],
   "source": [
    "##slicing in list is same as string\n",
    "my_list[1:5]"
   ]
  },
  {
   "cell_type": "code",
   "execution_count": 13,
   "id": "2fabca9f",
   "metadata": {},
   "outputs": [
    {
     "name": "stdout",
     "output_type": "stream",
     "text": [
      "[3, 4]\n",
      "4\n"
     ]
    }
   ],
   "source": [
    "##nested list\n",
    "nest=[1,2,[3,4],5]\n",
    "print(nest[2])\n",
    "print(nest[2][1])"
   ]
  },
  {
   "cell_type": "code",
   "execution_count": null,
   "id": "ff40d694",
   "metadata": {},
   "outputs": [],
   "source": []
  }
 ],
 "metadata": {
  "kernelspec": {
   "display_name": "Python 3 (ipykernel)",
   "language": "python",
   "name": "python3"
  },
  "language_info": {
   "codemirror_mode": {
    "name": "ipython",
    "version": 3
   },
   "file_extension": ".py",
   "mimetype": "text/x-python",
   "name": "python",
   "nbconvert_exporter": "python",
   "pygments_lexer": "ipython3",
   "version": "3.10.9"
  }
 },
 "nbformat": 4,
 "nbformat_minor": 5
}
