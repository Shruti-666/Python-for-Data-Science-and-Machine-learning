{
 "cells": [
  {
   "cell_type": "code",
   "execution_count": 1,
   "id": "7ddcc75e",
   "metadata": {},
   "outputs": [
    {
     "data": {
      "text/plain": [
       "'My name is Shruti. My age is 21'"
      ]
     },
     "execution_count": 1,
     "metadata": {},
     "output_type": "execute_result"
    }
   ],
   "source": [
    "#use of format method to get variable value\n",
    "'My name is {}. My age is {}'.format('Shruti',21)"
   ]
  },
  {
   "cell_type": "code",
   "execution_count": 2,
   "id": "c0593783",
   "metadata": {},
   "outputs": [
    {
     "data": {
      "text/plain": [
       "'My name is Shruti. My age is 21'"
      ]
     },
     "execution_count": 2,
     "metadata": {},
     "output_type": "execute_result"
    }
   ],
   "source": [
    "'My name is {name}. My age is {age}'.format(name='Shruti',age=21)"
   ]
  },
  {
   "cell_type": "code",
   "execution_count": 5,
   "id": "f9dd4516",
   "metadata": {},
   "outputs": [
    {
     "name": "stdout",
     "output_type": "stream",
     "text": [
      "u\n",
      "Shrutivats\n",
      "Shru\n"
     ]
    }
   ],
   "source": [
    "##Slicing of strings\n",
    "#string[start:stop:]\n",
    "s = 'Shrutivats'\n",
    "print(s[3:4])\n",
    "print(s[0:])\n",
    "print(s[:4])"
   ]
  },
  {
   "cell_type": "code",
   "execution_count": 9,
   "id": "da7eed08",
   "metadata": {},
   "outputs": [
    {
     "name": "stdout",
     "output_type": "stream",
     "text": [
      "initial list ['a', 'b', 'c', 'd'] \n",
      "appended List ['a', 'b', 'c', 'd', 'e']\n"
     ]
    }
   ],
   "source": [
    "## List\n",
    "my_list=['a','b','c','d']\n",
    "print('initial list {} '.format(my_list))\n",
    "my_list.append('e') # append at the end\n",
    "print('appended List {}'.format(my_list))"
   ]
  },
  {
   "cell_type": "code",
   "execution_count": 10,
   "id": "f69eae7a",
   "metadata": {},
   "outputs": [
    {
     "data": {
      "text/plain": [
       "['b', 'c', 'd', 'e']"
      ]
     },
     "execution_count": 10,
     "metadata": {},
     "output_type": "execute_result"
    }
   ],
   "source": [
    "##slicing in list is same as string\n",
    "my_list[1:5]"
   ]
  },
  {
   "cell_type": "code",
   "execution_count": 13,
   "id": "8273235a",
   "metadata": {},
   "outputs": [
    {
     "name": "stdout",
     "output_type": "stream",
     "text": [
      "[3, 4]\n",
      "4\n"
     ]
    }
   ],
   "source": [
    "##nested list\n",
    "nest=[1,2,[3,4],5]\n",
    "print(nest[2])\n",
    "print(nest[2][1])"
   ]
  },
  {
   "cell_type": "code",
   "execution_count": 14,
   "id": "76a09979",
   "metadata": {},
   "outputs": [
    {
     "name": "stdout",
     "output_type": "stream",
     "text": [
      "['Shruti', 'Vats']\n",
      "Shruti\n"
     ]
    }
   ],
   "source": [
    "nest=[1,2,[3,4],5,['Shruti','Vats']]\n",
    "print(nest[4])\n",
    "print(nest[4][0])"
   ]
  },
  {
   "cell_type": "code",
   "execution_count": 6,
   "id": "42d9dd1b",
   "metadata": {},
   "outputs": [],
   "source": [
    "##dictionaries\n",
    "#d ={key:value}\n",
    "dic = {'key1':1,'key2':2}"
   ]
  },
  {
   "cell_type": "code",
   "execution_count": 7,
   "id": "9a62fbc5",
   "metadata": {},
   "outputs": [
    {
     "data": {
      "text/plain": [
       "2"
      ]
     },
     "execution_count": 7,
     "metadata": {},
     "output_type": "execute_result"
    }
   ],
   "source": [
    "#access of dictionaries\n",
    "#dictionaries are key value pair mappings\n",
    "dic['key2']"
   ]
  },
  {
   "cell_type": "code",
   "execution_count": 8,
   "id": "354764fc",
   "metadata": {},
   "outputs": [
    {
     "data": {
      "text/plain": [
       "{'key1': 1, 'key2': 2}"
      ]
     },
     "execution_count": 8,
     "metadata": {},
     "output_type": "execute_result"
    }
   ],
   "source": [
    "dic"
   ]
  },
  {
   "cell_type": "code",
   "execution_count": 9,
   "id": "720e4ee2",
   "metadata": {},
   "outputs": [
    {
     "data": {
      "text/plain": [
       "[1, 2, 3]"
      ]
     },
     "execution_count": 9,
     "metadata": {},
     "output_type": "execute_result"
    }
   ],
   "source": [
    "d={'k1':[1,2,3]}\n",
    "d['k1']"
   ]
  },
  {
   "cell_type": "code",
   "execution_count": 10,
   "id": "dfe63c08",
   "metadata": {},
   "outputs": [
    {
     "data": {
      "text/plain": [
       "1"
      ]
     },
     "execution_count": 10,
     "metadata": {},
     "output_type": "execute_result"
    }
   ],
   "source": [
    "d['k1'][0]"
   ]
  },
  {
   "cell_type": "code",
   "execution_count": 11,
   "id": "16c86c5d",
   "metadata": {},
   "outputs": [],
   "source": [
    "d={'k1':{'k11':[1,2,3]}}\n"
   ]
  },
  {
   "cell_type": "code",
   "execution_count": 12,
   "id": "08e4cacd",
   "metadata": {},
   "outputs": [
    {
     "data": {
      "text/plain": [
       "{'k11': [1, 2, 3]}"
      ]
     },
     "execution_count": 12,
     "metadata": {},
     "output_type": "execute_result"
    }
   ],
   "source": [
    "d['k1']"
   ]
  },
  {
   "cell_type": "code",
   "execution_count": 13,
   "id": "59a7dcaa",
   "metadata": {},
   "outputs": [
    {
     "data": {
      "text/plain": [
       "2"
      ]
     },
     "execution_count": 13,
     "metadata": {},
     "output_type": "execute_result"
    }
   ],
   "source": [
    "d['k1']['k11'][1]"
   ]
  },
  {
   "cell_type": "code",
   "execution_count": 14,
   "id": "ae12ba86",
   "metadata": {},
   "outputs": [],
   "source": [
    "##tuple\n",
    "#immutable\n",
    "t=(1,2,3)"
   ]
  },
  {
   "cell_type": "code",
   "execution_count": 15,
   "id": "404bd06d",
   "metadata": {},
   "outputs": [
    {
     "data": {
      "text/plain": [
       "1"
      ]
     },
     "execution_count": 15,
     "metadata": {},
     "output_type": "execute_result"
    }
   ],
   "source": [
    "t[0]"
   ]
  },
  {
   "cell_type": "code",
   "execution_count": 16,
   "id": "e5eeded5",
   "metadata": {},
   "outputs": [
    {
     "ename": "TypeError",
     "evalue": "'tuple' object does not support item assignment",
     "output_type": "error",
     "traceback": [
      "\u001b[1;31m---------------------------------------------------------------------------\u001b[0m",
      "\u001b[1;31mTypeError\u001b[0m                                 Traceback (most recent call last)",
      "Cell \u001b[1;32mIn[16], line 1\u001b[0m\n\u001b[1;32m----> 1\u001b[0m t[\u001b[38;5;241m0\u001b[39m]\u001b[38;5;241m=\u001b[39m\u001b[38;5;124m'\u001b[39m\u001b[38;5;124mnew\u001b[39m\u001b[38;5;124m'\u001b[39m\n",
      "\u001b[1;31mTypeError\u001b[0m: 'tuple' object does not support item assignment"
     ]
    }
   ],
   "source": [
    "t[0]='new'"
   ]
  },
  {
   "cell_type": "code",
   "execution_count": 17,
   "id": "c100faee",
   "metadata": {},
   "outputs": [
    {
     "data": {
      "text/plain": [
       "{1, 2, 4, 5, 6, 8, 9}"
      ]
     },
     "execution_count": 17,
     "metadata": {},
     "output_type": "execute_result"
    }
   ],
   "source": [
    "#set\n",
    "set([1,2,2,4,4,4,4,5,5,5,5,6,1,8,8,9])"
   ]
  },
  {
   "cell_type": "code",
   "execution_count": 18,
   "id": "b5244d9b",
   "metadata": {},
   "outputs": [],
   "source": [
    "s1={1,2,3,4}"
   ]
  },
  {
   "cell_type": "code",
   "execution_count": 21,
   "id": "9684126d",
   "metadata": {},
   "outputs": [],
   "source": [
    "s1.add(5)"
   ]
  },
  {
   "cell_type": "code",
   "execution_count": 22,
   "id": "05627b9a",
   "metadata": {},
   "outputs": [
    {
     "data": {
      "text/plain": [
       "{1, 2, 3, 4, 5}"
      ]
     },
     "execution_count": 22,
     "metadata": {},
     "output_type": "execute_result"
    }
   ],
   "source": [
    "s1"
   ]
  },
  {
   "cell_type": "code",
   "execution_count": 24,
   "id": "08b58c4e",
   "metadata": {},
   "outputs": [
    {
     "data": {
      "text/plain": [
       "{1, 2, 3, 4, 5}"
      ]
     },
     "execution_count": 24,
     "metadata": {},
     "output_type": "execute_result"
    }
   ],
   "source": [
    "s1.add(5)\n",
    "s1"
   ]
  },
  {
   "cell_type": "code",
   "execution_count": 26,
   "id": "d85dfa32",
   "metadata": {},
   "outputs": [
    {
     "name": "stdout",
     "output_type": "stream",
     "text": [
      "second\n"
     ]
    }
   ],
   "source": [
    "##if-else\n",
    "if 1==2:\n",
    "    print('first')\n",
    "elif 3==3:\n",
    "    print('second')\n",
    "else:\n",
    "    print('last')"
   ]
  },
  {
   "cell_type": "code",
   "execution_count": 27,
   "id": "83e564d8",
   "metadata": {},
   "outputs": [],
   "source": [
    "##for loop\n",
    "seq=[1,2,3,4,5]"
   ]
  },
  {
   "cell_type": "code",
   "execution_count": 28,
   "id": "e426fd61",
   "metadata": {},
   "outputs": [
    {
     "name": "stdout",
     "output_type": "stream",
     "text": [
      "1\n",
      "2\n",
      "3\n",
      "4\n",
      "5\n"
     ]
    }
   ],
   "source": [
    "for item in seq:\n",
    "    print(item)"
   ]
  },
  {
   "cell_type": "code",
   "execution_count": 33,
   "id": "a63a186f",
   "metadata": {},
   "outputs": [
    {
     "name": "stdout",
     "output_type": "stream",
     "text": [
      "i is 2\n",
      "i is 4\n"
     ]
    }
   ],
   "source": [
    "##while loop\n",
    "i=1\n",
    "while i<6:\n",
    "    if(i%2==0):\n",
    "        print('i is {}'.format(i))\n",
    "    i=i+1"
   ]
  },
  {
   "cell_type": "code",
   "execution_count": 34,
   "id": "e52a2265",
   "metadata": {},
   "outputs": [
    {
     "data": {
      "text/plain": [
       "range(0, 5)"
      ]
     },
     "execution_count": 34,
     "metadata": {},
     "output_type": "execute_result"
    }
   ],
   "source": [
    "##range\n",
    "range(0,5)"
   ]
  },
  {
   "cell_type": "code",
   "execution_count": 36,
   "id": "5d825ae9",
   "metadata": {},
   "outputs": [
    {
     "name": "stdout",
     "output_type": "stream",
     "text": [
      "1\n",
      "2\n",
      "3\n",
      "4\n"
     ]
    }
   ],
   "source": [
    "for i in range(1,5):\n",
    "    print(i)"
   ]
  },
  {
   "cell_type": "code",
   "execution_count": 37,
   "id": "780b806d",
   "metadata": {},
   "outputs": [
    {
     "data": {
      "text/plain": [
       "[0, 1, 2, 3, 4, 5, 6, 7, 8, 9]"
      ]
     },
     "execution_count": 37,
     "metadata": {},
     "output_type": "execute_result"
    }
   ],
   "source": [
    "list(range(10))"
   ]
  },
  {
   "cell_type": "code",
   "execution_count": 39,
   "id": "cec399ed",
   "metadata": {},
   "outputs": [],
   "source": [
    "##list comprehension\n",
    "x=[1,2,3,4,5]\n",
    "out=[]"
   ]
  },
  {
   "cell_type": "code",
   "execution_count": 42,
   "id": "ef5dea3c",
   "metadata": {},
   "outputs": [],
   "source": [
    "for num in x:\n",
    "    out.append(num**2) #code1"
   ]
  },
  {
   "cell_type": "code",
   "execution_count": 43,
   "id": "91303b7b",
   "metadata": {},
   "outputs": [
    {
     "data": {
      "text/plain": [
       "[1, 2, 3, 4, 5, 1, 4, 9, 16, 25]"
      ]
     },
     "execution_count": 43,
     "metadata": {},
     "output_type": "execute_result"
    }
   ],
   "source": [
    "out"
   ]
  },
  {
   "cell_type": "code",
   "execution_count": 44,
   "id": "c7a6eeb5",
   "metadata": {},
   "outputs": [
    {
     "data": {
      "text/plain": [
       "[1, 4, 9, 16, 25]"
      ]
     },
     "execution_count": 44,
     "metadata": {},
     "output_type": "execute_result"
    }
   ],
   "source": [
    "[num**2 for num in x]"
   ]
  },
  {
   "cell_type": "code",
   "execution_count": 45,
   "id": "693ef26b",
   "metadata": {},
   "outputs": [],
   "source": [
    "new = [num**2 for num in x] #alternate way of writing code1"
   ]
  },
  {
   "cell_type": "code",
   "execution_count": 46,
   "id": "45a04afb",
   "metadata": {},
   "outputs": [
    {
     "data": {
      "text/plain": [
       "[1, 4, 9, 16, 25]"
      ]
     },
     "execution_count": 46,
     "metadata": {},
     "output_type": "execute_result"
    }
   ],
   "source": [
    "new"
   ]
  },
  {
   "cell_type": "code",
   "execution_count": 51,
   "id": "98101aac",
   "metadata": {},
   "outputs": [],
   "source": [
    "##functions\n",
    "def my_func(name):\n",
    "    print(\"Hello \"+name)"
   ]
  },
  {
   "cell_type": "code",
   "execution_count": 52,
   "id": "19420693",
   "metadata": {},
   "outputs": [
    {
     "name": "stdout",
     "output_type": "stream",
     "text": [
      "Hello Shruti Vats\n"
     ]
    }
   ],
   "source": [
    "my_func('Shruti Vats')"
   ]
  },
  {
   "cell_type": "code",
   "execution_count": 53,
   "id": "7a4ff43e",
   "metadata": {},
   "outputs": [],
   "source": [
    "##mapping and lambda expresion\n",
    "def times2(var):\n",
    "    return var*2\n"
   ]
  },
  {
   "cell_type": "code",
   "execution_count": 54,
   "id": "ec2be29e",
   "metadata": {},
   "outputs": [
    {
     "data": {
      "text/plain": [
       "4"
      ]
     },
     "execution_count": 54,
     "metadata": {},
     "output_type": "execute_result"
    }
   ],
   "source": [
    "times2(2)"
   ]
  },
  {
   "cell_type": "code",
   "execution_count": 66,
   "id": "e52bcbaa",
   "metadata": {},
   "outputs": [
    {
     "data": {
      "text/plain": [
       "[2, 4, 6, 8, 10]"
      ]
     },
     "execution_count": 66,
     "metadata": {},
     "output_type": "execute_result"
    }
   ],
   "source": [
    "#if i want to use times2 function on each element of this lists \n",
    "s = [1,2,3,4,5]\n",
    "#use map function for this thing\n",
    "list(map(times2,s))"
   ]
  },
  {
   "cell_type": "code",
   "execution_count": 57,
   "id": "ee7d25fc",
   "metadata": {},
   "outputs": [
    {
     "data": {
      "text/plain": [
       "[2, 4, 6, 8, 10]"
      ]
     },
     "execution_count": 57,
     "metadata": {},
     "output_type": "execute_result"
    }
   ],
   "source": [
    "## we can use lamda expresion instead of the function\n",
    "lambda num : num*2 #does the same work as times2()\n",
    "list(map(lambda num:num*2,s))"
   ]
  },
  {
   "cell_type": "code",
   "execution_count": 62,
   "id": "e3e60b5b",
   "metadata": {},
   "outputs": [],
   "source": [
    "new =list(map(lambda num:num*3,s))"
   ]
  },
  {
   "cell_type": "code",
   "execution_count": 63,
   "id": "57737825",
   "metadata": {},
   "outputs": [
    {
     "data": {
      "text/plain": [
       "[6, 12]"
      ]
     },
     "execution_count": 63,
     "metadata": {},
     "output_type": "execute_result"
    }
   ],
   "source": [
    "## filter\n",
    "#it filters out the desired element out of the list\n",
    "list(filter(lambda num : num%2 ==0,new))"
   ]
  },
  {
   "cell_type": "code",
   "execution_count": 71,
   "id": "5022c2a3",
   "metadata": {},
   "outputs": [],
   "source": [
    "##methods\n",
    "new_s = 'Hello my name is Shruti Vats'"
   ]
  },
  {
   "cell_type": "code",
   "execution_count": 73,
   "id": "c518d4c2",
   "metadata": {},
   "outputs": [
    {
     "data": {
      "text/plain": [
       "'HELLO MY NAME IS SHRUTI VATS'"
      ]
     },
     "execution_count": 73,
     "metadata": {},
     "output_type": "execute_result"
    }
   ],
   "source": [
    "new_s.upper()"
   ]
  },
  {
   "cell_type": "code",
   "execution_count": 74,
   "id": "c4f4d83a",
   "metadata": {},
   "outputs": [
    {
     "data": {
      "text/plain": [
       "['Hello', 'my', 'name', 'is', 'Shruti', 'Vats']"
      ]
     },
     "execution_count": 74,
     "metadata": {},
     "output_type": "execute_result"
    }
   ],
   "source": [
    "new_s.split()"
   ]
  },
  {
   "cell_type": "code",
   "execution_count": 77,
   "id": "872a6215",
   "metadata": {},
   "outputs": [],
   "source": [
    "tweet = \"Go Sports ! # Sports\""
   ]
  },
  {
   "cell_type": "code",
   "execution_count": 78,
   "id": "f433a595",
   "metadata": {},
   "outputs": [
    {
     "name": "stdout",
     "output_type": "stream",
     "text": [
      "Its a tweet tweet about sports\n",
      "Its a tweet tweet about sports\n"
     ]
    }
   ],
   "source": [
    "for words in tweet.split():\n",
    "    if words=='Sports' or words== 'Sports':\n",
    "        print(\"Its a tweet tweet about sports\")"
   ]
  },
  {
   "cell_type": "code",
   "execution_count": 82,
   "id": "8146e2c7",
   "metadata": {},
   "outputs": [
    {
     "data": {
      "text/plain": [
       "['Go Sports ', ' # Sports']"
      ]
     },
     "execution_count": 82,
     "metadata": {},
     "output_type": "execute_result"
    }
   ],
   "source": [
    "#splitting on basis of particular expression\n",
    "tweet.split('!')"
   ]
  },
  {
   "cell_type": "code",
   "execution_count": 83,
   "id": "28d539b1",
   "metadata": {},
   "outputs": [],
   "source": [
    "new_dict = {'k1':1,'k2':2,'k3':3}"
   ]
  },
  {
   "cell_type": "code",
   "execution_count": 85,
   "id": "3f17bf3f",
   "metadata": {},
   "outputs": [
    {
     "data": {
      "text/plain": [
       "dict_keys(['k1', 'k2', 'k3'])"
      ]
     },
     "execution_count": 85,
     "metadata": {},
     "output_type": "execute_result"
    }
   ],
   "source": [
    "##returns keys in a dictionaries\n",
    "new_dict.keys()"
   ]
  },
  {
   "cell_type": "code",
   "execution_count": 86,
   "id": "f9760d70",
   "metadata": {},
   "outputs": [
    {
     "data": {
      "text/plain": [
       "dict_items([('k1', 1), ('k2', 2), ('k3', 3)])"
      ]
     },
     "execution_count": 86,
     "metadata": {},
     "output_type": "execute_result"
    }
   ],
   "source": [
    "#returns all the items in the dictionaries\n",
    "new_dict.items()"
   ]
  },
  {
   "cell_type": "code",
   "execution_count": 87,
   "id": "95a07bb7",
   "metadata": {},
   "outputs": [
    {
     "data": {
      "text/plain": [
       "dict_values([1, 2, 3])"
      ]
     },
     "execution_count": 87,
     "metadata": {},
     "output_type": "execute_result"
    }
   ],
   "source": [
    "#returns all the values in dictionaires\n",
    "new_dict.values()"
   ]
  },
  {
   "cell_type": "code",
   "execution_count": 88,
   "id": "ab12582c",
   "metadata": {},
   "outputs": [],
   "source": [
    "l = [10,20,30,40]"
   ]
  },
  {
   "cell_type": "code",
   "execution_count": 89,
   "id": "01dca8a4",
   "metadata": {},
   "outputs": [
    {
     "data": {
      "text/plain": [
       "40"
      ]
     },
     "execution_count": 89,
     "metadata": {},
     "output_type": "execute_result"
    }
   ],
   "source": [
    "#returns element which is removed from the back\n",
    "l.pop()"
   ]
  },
  {
   "cell_type": "code",
   "execution_count": 90,
   "id": "73bae3ad",
   "metadata": {},
   "outputs": [
    {
     "data": {
      "text/plain": [
       "[10, 20, 30]"
      ]
     },
     "execution_count": 90,
     "metadata": {},
     "output_type": "execute_result"
    }
   ],
   "source": [
    "l"
   ]
  },
  {
   "cell_type": "code",
   "execution_count": 92,
   "id": "eb180048",
   "metadata": {},
   "outputs": [
    {
     "data": {
      "text/plain": [
       "10"
      ]
     },
     "execution_count": 92,
     "metadata": {},
     "output_type": "execute_result"
    }
   ],
   "source": [
    "#returns element which is poped from a particular index \n",
    "l.pop(0)"
   ]
  },
  {
   "cell_type": "code",
   "execution_count": 93,
   "id": "a11c18f5",
   "metadata": {},
   "outputs": [],
   "source": [
    "##tuple unpacking\n",
    "x = [(1,2),(3,4),(5,6)]"
   ]
  },
  {
   "cell_type": "code",
   "execution_count": 97,
   "id": "9095c439",
   "metadata": {},
   "outputs": [
    {
     "name": "stdout",
     "output_type": "stream",
     "text": [
      "1\n",
      "3\n",
      "5\n"
     ]
    }
   ],
   "source": [
    "for first,second in x:\n",
    "    print(first)"
   ]
  },
  {
   "cell_type": "code",
   "execution_count": 96,
   "id": "ac9f4b9c",
   "metadata": {},
   "outputs": [
    {
     "name": "stdout",
     "output_type": "stream",
     "text": [
      "2\n",
      "4\n",
      "6\n"
     ]
    }
   ],
   "source": [
    "for first,second in x:\n",
    "    print(second)"
   ]
  },
  {
   "cell_type": "code",
   "execution_count": null,
   "id": "408d2be5",
   "metadata": {},
   "outputs": [],
   "source": []
  }
 ],
 "metadata": {
  "kernelspec": {
   "display_name": "Python 3 (ipykernel)",
   "language": "python",
   "name": "python3"
  },
  "language_info": {
   "codemirror_mode": {
    "name": "ipython",
    "version": 3
   },
   "file_extension": ".py",
   "mimetype": "text/x-python",
   "name": "python",
   "nbconvert_exporter": "python",
   "pygments_lexer": "ipython3",
   "version": "3.10.9"
  }
 },
 "nbformat": 4,
 "nbformat_minor": 5
}
